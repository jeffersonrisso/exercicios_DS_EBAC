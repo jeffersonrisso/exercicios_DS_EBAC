{
 "cells": [
  {
   "cell_type": "markdown",
   "metadata": {
    "id": "SEE0vQsW83yB"
   },
   "source": [
    "### 01 - Teste de gravidez\n",
    "Escreva uma célula com controle de fluxos que tem como premissa a existência das seguintes variáveis:\n",
    "\n",
    "- ```sexo``` como ```str``` indicando os valores '**M**' para masculino e '**F**' para feminino  \n",
    "- ```beta_hcg``` que indica a quantidade do beta-HCG no sangue em mUI/mL.\n",
    "\n",
    "A sua tarefa é escrever um código que imprima como resultado \"indivíduo do sexo masculino\" quando sexo = 'M', caso sexo = 'F', se o valor de beta-HCG for maior que 5, retorne \"Positivo\" indicando que a paciente está grávida, e retorne \"Negativo\" caso contrário.\n",
    "\n",
    "Não mexa nos valores da variável ```sexo``` nem em ```beta_hcg```, e escreva um código que funcione para quaisquer valores possíveis de ambos: ```sexo``` = '**M**' ou '**F**' e ```beta_hcg``` assumindo valores inteiros positivos."
   ]
  },
  {
   "cell_type": "code",
   "execution_count": 1,
   "metadata": {
    "id": "cTOc4LG683yE"
   },
   "outputs": [
    {
     "name": "stdout",
     "output_type": "stream",
     "text": [
      "F\n"
     ]
    }
   ],
   "source": [
    "sexo = 'M'\n",
    "beta_hcg = 1\n",
    "\n",
    "# seu código vem abaixo desta linha\n",
    "if beta_hcg != 0:\n",
    "    print('F')\n",
    "else:\n",
    "    print(sexo)"
   ]
  },
  {
   "cell_type": "markdown",
   "metadata": {
    "id": "uCoIZDE383yF"
   },
   "source": [
    "### 02 - Renomeando variáveis\n",
    "\n",
    "Vamos ver adiante que uma forma de renomear variáveis de um conjunto de dados é através de dicionários - o dicionário deve conter como chave o nome original, associando a cada chave um único valor (tipo *str*) que contenha o nome novo.\n",
    "\n",
    "A sua tarefa é escrever um dicionário que possa ser utilizado para traduzir as variáveis ```name``` (nome), ```age``` (idade) e ```income``` (renda). Ou seja, esse dicionário deve relacionar as chaves *name, age* e *income* às suas respectivas traduções."
   ]
  },
  {
   "cell_type": "code",
   "execution_count": 2,
   "metadata": {
    "id": "Bh6ijpbu83yG",
    "outputId": "58fbd8da-ed1d-4e05-df85-041c821948f2"
   },
   "outputs": [
    {
     "data": {
      "text/plain": [
       "{'name': 'nome', 'age': 'idade', 'income': 'renda'}"
      ]
     },
     "execution_count": 2,
     "metadata": {},
     "output_type": "execute_result"
    }
   ],
   "source": [
    "dic_renomeacao = {'name':'nome','age':'idade','income':'renda'}\n",
    "dic_renomeacao"
   ]
  },
  {
   "cell_type": "markdown",
   "metadata": {
    "id": "95zumO5g83yH"
   },
   "source": [
    "### 03 - É divisível?\n",
    "A sua tarefa é escrever um código que indique se um número ```N``` é divisível por um número P. Escreva um programa que faça essa verificação para quaisquer combinações de ```N``` e ```M``` e devolva uma mensagem indicativa no output."
   ]
  },
  {
   "cell_type": "code",
   "execution_count": 3,
   "metadata": {
    "id": "BR2zOhmN83yI"
   },
   "outputs": [
    {
     "name": "stdout",
     "output_type": "stream",
     "text": [
      "O número 42 é divisível por 7.\n"
     ]
    }
   ],
   "source": [
    "# Definindo os números N e P\n",
    "N = 42\n",
    "P = 7\n",
    "\n",
    "# Verificando se P é zero para evitar erro de divisão\n",
    "if P == 0:\n",
    "    print(\"Divisão por zero não é permitida.\")\n",
    "# Se o resto da divisão de N por P for 0, N é divisível por P\n",
    "elif N % P == 0:\n",
    "    print(f\"O número {N} é divisível por {P}.\")\n",
    "# Caso contrário, N não é divisível por P\n",
    "else:\n",
    "    print(f\"O número {N} não é divisível por {P}.\")"
   ]
  },
  {
   "cell_type": "markdown",
   "metadata": {
    "id": "0d5Kdrz283yJ"
   },
   "source": [
    "### 04 - Números primos\n",
    "> Um número **N** é primo se e somente se é divisível por 1, -1, por **N** e por -**N**.  \n",
    "\n",
    "Escreva um script que verifica se ```N``` é um número primo, verificando se ```N``` é divisível por todos os números de ```1``` a ```N-1```. Você vai precisar usar alguma ferramenta de *loop* que você aprendeu para isto. No final, devolva uma mensagem no output indicando se o número é primo ou não."
   ]
  },
  {
   "cell_type": "code",
   "execution_count": 4,
   "metadata": {
    "id": "h_lFO-EO83yJ"
   },
   "outputs": [
    {
     "name": "stdout",
     "output_type": "stream",
     "text": [
      "O número 47 é um número primo.\n"
     ]
    }
   ],
   "source": [
    "# Definindo o número a ser verificado\n",
    "N = 47\n",
    "\n",
    "# Um número primo deve ser maior que 1. Se N for 1 ou menor, já sabemos que não é primo.\n",
    "if N <= 1:\n",
    "    print(f\"O número {N} não é um número primo.\")\n",
    "else:\n",
    "    # Usamos uma flag (bandeira) para indicar se o número é primo.\n",
    "    # Começamos assumindo que ele é primo.\n",
    "    is_prime = True\n",
    "\n",
    "    # O loop vai testar a divisibilidade de N por cada número de 2 até N-1.\n",
    "    for i in range(2, N):\n",
    "        # O operador de módulo (%) retorna o resto da divisão.\n",
    "        # Se o resto for 0, encontramos um divisor e o número não é primo.\n",
    "        if N % i == 0:\n",
    "            is_prime = False  # Mudamos a flag para False\n",
    "            break             # Paramos o loop, pois já temos a resposta\n",
    "\n",
    "    # Após o loop, verificamos o valor da nossa flag para dar a resposta final.\n",
    "    if is_prime:\n",
    "        print(f\"O número {N} é um número primo.\")\n",
    "    else:\n",
    "        print(f\"O número {N} não é um número primo.\")\n"
   ]
  },
  {
   "cell_type": "markdown",
   "metadata": {
    "id": "zHwDnURO83yK"
   },
   "source": [
    "### 05 - Desafio\n",
    "O algorítmo do exercício anterior não é o mais eficiente. O que você pode fazer para deixá-lo mais eficiente? Ou seja, executar menos comparações, portanto consumir menos tempo.\n",
    "1. Será que precisamos correr o loop até o final sempre?\n",
    "2. Será que precisamos mesmo verificar **todos** os números?\n",
    "3. Será que precisamos ir até N-1?\n",
    "\n",
    "Essas perguntas levam ao tipo de pensamento voltado a deixar um algoritmo mais eficiente. Veja se você consegue melhorar o seu."
   ]
  },
  {
   "cell_type": "code",
   "execution_count": 5,
   "metadata": {
    "id": "DDdwfZOL83yM"
   },
   "outputs": [
    {
     "name": "stdout",
     "output_type": "stream",
     "text": [
      "O número 98 não é um número primo.\n"
     ]
    }
   ],
   "source": [
    "import math\n",
    "\n",
    "# Definindo o número a ser verificado\n",
    "N = 98\n",
    "\n",
    "# Assumimos que o número é primo até que se prove o contrário\n",
    "is_prime = True\n",
    "\n",
    "# 1. Lidando com casos especiais:\n",
    "# Números menores ou iguais a 1 não são primos.\n",
    "if N <= 1:\n",
    "    is_prime = False\n",
    "# O número 2 é o único primo par.\n",
    "elif N == 2:\n",
    "    is_prime = True\n",
    "# Qualquer outro número par maior que 2 não é primo.\n",
    "elif N % 2 == 0:\n",
    "    is_prime = False\n",
    "# 2. Se for ímpar, só precisamos verificar divisores ímpares.\n",
    "else:\n",
    "    # O loop vai de 3 até a raiz quadrada de N, de 2 em 2 (somente ímpares).\n",
    "    # math.sqrt(N) calcula a raiz quadrada de N.\n",
    "    # int() converte o resultado para um número inteiro.\n",
    "    for i in range(3, int(math.sqrt(N)) + 1, 2):\n",
    "        if N % i == 0:\n",
    "            is_prime = False  # Encontrou um divisor, não é primo\n",
    "            break             # Paramos o loop\n",
    "\n",
    "# 3. Imprimindo o resultado final.\n",
    "if is_prime:\n",
    "    print(f\"O número {N} é um número primo.\")\n",
    "else:\n",
    "    print(f\"O número {N} não é um número primo.\")\n",
    "\n"
   ]
  },
  {
   "cell_type": "markdown",
   "metadata": {
    "id": "4zhVSQan83yN"
   },
   "source": [
    "### 06 - Peso ideal 1\n",
    "O IMC (índice de massa corpórea) é um indicador de saúde mais bem aceito que o peso. Ele é calculado como:\n",
    "\n",
    "$$ IMC = \\dfrac{peso}{altura^2}$$\n",
    "\n",
    "Segundo a OMS, valores *normais* são entre 18.5 e 24.9.\n",
    "\n",
    "Sua tarefa é encontrar o ponto médio dessa faixa."
   ]
  },
  {
   "cell_type": "code",
   "execution_count": 6,
   "metadata": {
    "id": "3DzxicN983yO",
    "outputId": "6a947e58-88b2-4764-a9ca-717b971adb3d"
   },
   "outputs": [
    {
     "name": "stdout",
     "output_type": "stream",
     "text": [
      "O ponto médio da faixa de IMC normal é: 21.7\n"
     ]
    }
   ],
   "source": [
    "# Definindo os limites da faixa normal de IMC\n",
    "limite_inferior = 18.5\n",
    "limite_superior = 24.9\n",
    "\n",
    "# Calculando o ponto médio\n",
    "ponto_medio = (limite_inferior + limite_superior) / 2\n",
    "\n",
    "# Imprimindo o resultado\n",
    "print(f\"O ponto médio da faixa de IMC normal é: {ponto_medio}\")"
   ]
  },
  {
   "cell_type": "markdown",
   "metadata": {
    "id": "Z8uBOym483yP"
   },
   "source": [
    "### 07 - Peso ideal 2\n",
    "Recebendo um valor de altura, encontre o peso '*ideal*' dessa pessoa, que fornece o IMC encontrado acima"
   ]
  },
  {
   "cell_type": "code",
   "execution_count": 7,
   "metadata": {
    "id": "rrNwycte83yP",
    "outputId": "0e63b2ff-3743-48c7-a472-b48a450a0867"
   },
   "outputs": [
    {
     "name": "stdout",
     "output_type": "stream",
     "text": [
      "Para uma altura de 1.7m, o peso ideal é de aproximadamente 62.71 kg.\n"
     ]
    }
   ],
   "source": [
    "# O IMC ideal, ponto médio da faixa normal\n",
    "imc_ideal = 21.7\n",
    "\n",
    "# A altura fornecida\n",
    "altura = 1.70\n",
    "\n",
    "# Calculando o peso ideal usando a fórmula rearranjada\n",
    "# O operador ** é usado para calcular a potência (altura ao quadrado)\n",
    "peso_ideal = imc_ideal * (altura ** 2)\n",
    "\n",
    "# Imprimindo o resultado de forma formatada\n",
    "print(f\"Para uma altura de {altura}m, o peso ideal é de aproximadamente {peso_ideal:.2f} kg.\")"
   ]
  },
  {
   "cell_type": "markdown",
   "metadata": {
    "id": "zEdM6J_i83yP"
   },
   "source": [
    "### 08 - Peso ideal 3\n",
    "Dada uma lista contendo as alturas de pacientes, crie uma nova lista que contenha o peso '*ideal*' (que fornece o IMC calculado em **Peso ideal 1**) desses pacientes."
   ]
  },
  {
   "cell_type": "code",
   "execution_count": 8,
   "metadata": {
    "id": "KN1mB_My83yQ",
    "outputId": "f070d54d-c156-4546-e3c7-b5bc500059d9"
   },
   "outputs": [
    {
     "name": "stdout",
     "output_type": "stream",
     "text": [
      "Lista de pesos ideais:\n",
      "[82.51424999999999, 91.19425, 62.712999999999994, 59.07824999999999]\n"
     ]
    }
   ],
   "source": [
    "# O IMC ideal, ponto médio da faixa normal\n",
    "imc_ideal = 21.7\n",
    "\n",
    "# A lista de alturas fornecida\n",
    "lista_alturas = [1.95, 2.05, 1.70, 1.65]\n",
    "\n",
    "# Criando uma nova lista vazia para armazenar os pesos ideais\n",
    "lista_pesos_ideais = []\n",
    "\n",
    "# Iterando sobre cada altura na lista original\n",
    "for altura in lista_alturas:\n",
    "    # Calculando o peso ideal para a altura atual\n",
    "    peso_ideal = imc_ideal * (altura ** 2)\n",
    "    # Adicionando o peso ideal calculado à nova lista\n",
    "    lista_pesos_ideais.append(peso_ideal)\n",
    "\n",
    "# Imprimindo a nova lista completa\n",
    "print(\"Lista de pesos ideais:\")\n",
    "print(lista_pesos_ideais)"
   ]
  },
  {
   "cell_type": "markdown",
   "metadata": {
    "id": "8OKAtYQM83yQ"
   },
   "source": [
    "### 09 - Peso ideal 4\n",
    "Dada uma lista de tuplas - cada elemento da lista é uma tupla contendo altura e peso de um paciente - crie uma nova lista com o IMC desses pacientes."
   ]
  },
  {
   "cell_type": "code",
   "execution_count": 9,
   "metadata": {
    "id": "FaXgkjzI83yQ",
    "outputId": "8adc5e59-8a72-42db-db6b-6895587e875e"
   },
   "outputs": [
    {
     "name": "stdout",
     "output_type": "stream",
     "text": [
      "Lista de IMCs dos pacientes:\n",
      "[27.777777777777775, 27.548209366391188, 19.188070502453332]\n"
     ]
    }
   ],
   "source": [
    "# A lista de tuplas fornecida\n",
    "altura_peso = [(1.80, 90), (1.65, 75), (1.91, 70)]\n",
    "\n",
    "# A lista vazia para armazenar os IMCs calculados\n",
    "imc = []\n",
    "\n",
    "# Iterando sobre a lista e desempacotando cada tupla\n",
    "for altura, peso in altura_peso:\n",
    "    # Calculando o IMC com a fórmula\n",
    "    imc_calculado = peso / (altura ** 2)\n",
    "    # Adicionando o IMC calculado à lista\n",
    "    imc.append(imc_calculado)\n",
    "\n",
    "# Imprimindo a lista final\n",
    "print(\"Lista de IMCs dos pacientes:\")\n",
    "print(imc)"
   ]
  },
  {
   "cell_type": "markdown",
   "metadata": {
    "id": "kZdSJqJq83yR"
   },
   "source": [
    "### 10 - Peso ideal 5\n",
    "Dada uma lista de **listas** - cada elemento da lista é uma **lista** contendo altura e peso de um paciente, adicione mais um elemento à lista de cada paciente contendo o IMC do paciente. Verifique também se é 'baixo', 'normal' ou 'alto' segundo os padrões da OMS em que normal é entre 18.5 e 24.9.\n",
    "\n",
    "Reflexão: por que no problema anterior temos que criar uma nova lista, e não podemos adicionar os dados de cada indivíduo à tupla?"
   ]
  },
  {
   "cell_type": "code",
   "execution_count": 10,
   "metadata": {
    "id": "EwszojP283yR"
   },
   "outputs": [
    {
     "name": "stdout",
     "output_type": "stream",
     "text": [
      "Dados dos pacientes com IMC e classificação:\n",
      "[[1.8, 90, 27.777777777777775, 'alto'], [1.65, 75, 27.548209366391188, 'alto'], [1.91, 70, 19.188070502453332, 'normal']]\n"
     ]
    }
   ],
   "source": [
    "# A lista de listas fornecida\n",
    "altura_peso = [[1.80, 90], [1.65, 75], [1.91, 70]]\n",
    "\n",
    "# Iterando sobre a lista de listas.\n",
    "# Usamos range(len()) para ter o índice e modificar a lista original.\n",
    "for i in range(len(altura_peso)):\n",
    "    # Desempacotando a altura e o peso da sub-lista do paciente\n",
    "    altura = altura_peso[i][0]\n",
    "    peso = altura_peso[i][1]\n",
    "\n",
    "    # Calculando o IMC\n",
    "    imc = peso / (altura ** 2)\n",
    "\n",
    "    # Classificando o IMC com base nos padrões da OMS\n",
    "    if imc < 18.5:\n",
    "        classificacao = 'baixo'\n",
    "    elif 18.5 <= imc <= 24.9:\n",
    "        classificacao = 'normal'\n",
    "    else:\n",
    "        classificacao = 'alto'\n",
    "\n",
    "    # Adicionando o IMC e a classificação à lista do paciente\n",
    "    altura_peso[i].append(imc)\n",
    "    altura_peso[i].append(classificacao)\n",
    "\n",
    "# Imprimindo a lista final modificada\n",
    "print(\"Dados dos pacientes com IMC e classificação:\")\n",
    "print(altura_peso)"
   ]
  }
 ],
 "metadata": {
  "colab": {
   "collapsed_sections": [],
   "provenance": []
  },
  "kernelspec": {
   "display_name": "Python 3",
   "language": "python",
   "name": "python3"
  },
  "language_info": {
   "codemirror_mode": {
    "name": "ipython",
    "version": 3
   },
   "file_extension": ".py",
   "mimetype": "text/x-python",
   "name": "python",
   "nbconvert_exporter": "python",
   "pygments_lexer": "ipython3",
   "version": "3.13.7"
  }
 },
 "nbformat": 4,
 "nbformat_minor": 0
}
