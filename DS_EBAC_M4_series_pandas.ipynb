{
 "cells": [
  {
   "cell_type": "markdown",
   "metadata": {},
   "source": [
    "#### 1)  crie uma série do pandas a partir de uma lista com os dados abaixo:\n",
    "\n",
    "Em um estudo sobre alteração na tempreatura global, A NASA disponibiliza dados de diferenças de de temperatura média da superfície terrestre relativos às médias de temperatura entre 1951 e 1980. Os dados originais podem ser vistos no site da NASA/GISS, e estão dispostos a cada década na tabela abaixo.\n",
    "\n",
    "|ano|anomalia termica|\n",
    "|:-:|:----:|\n",
    "| 1900 | -0.08 |\n",
    "| 1920 | -0.27 |\n",
    "| 1940 | 0.12 |\n",
    "| 1960 | -0.03 |\n",
    "| 1980 | 0.26 |\n",
    "| 2000 | 0.40 |\n",
    "| 2020 | 1.02 |\n",
    "\n",
    "Crie uma séries do Pandas a partir de uma lista com esses dados."
   ]
  },
  {
   "cell_type": "code",
   "execution_count": 2,
   "metadata": {},
   "outputs": [],
   "source": [
    "import pandas as pd\n",
    "import numpy as np\n",
    "\n",
    "# Lista de valores de anomalia térmica\n",
    "anomalias = [-0.08, -0.27, 0.12, -0.03, 0.26, 0.40, 1.02]\n",
    "\n",
    "# Lista de anos (será usada como índice da série)\n",
    "anos = [1900, 1920, 1940, 1960, 1980, 2000, 2020]\n",
    "\n",
    "# Criando a Série\n",
    "serie_anomalias = pd.Series(data=anomalias, index=anos, name=\"Anomalia Térmica\")"
   ]
  },
  {
   "cell_type": "markdown",
   "metadata": {},
   "source": [
    "#### 2) Coloque os anos nos índices conforme a tabela."
   ]
  },
  {
   "cell_type": "code",
   "execution_count": 3,
   "metadata": {},
   "outputs": [
    {
     "name": "stdout",
     "output_type": "stream",
     "text": [
      "1900   -0.08\n",
      "1920   -0.27\n",
      "1940    0.12\n",
      "1960   -0.03\n",
      "1980    0.26\n",
      "2000    0.40\n",
      "2020    1.02\n",
      "Name: Anomalia Térmica, dtype: float64\n"
     ]
    }
   ],
   "source": [
    "print(serie_anomalias)"
   ]
  },
  {
   "cell_type": "markdown",
   "metadata": {},
   "source": [
    "#### 3) A partir do dicionário abaixo, crie uma séries do Pandas:"
   ]
  },
  {
   "cell_type": "code",
   "execution_count": 4,
   "metadata": {},
   "outputs": [
    {
     "name": "stdout",
     "output_type": "stream",
     "text": [
      "    Ano  Anomalia Térmica\n",
      "0  1900             -0.08\n",
      "1  1920             -0.27\n",
      "2  1940              0.12\n",
      "3  1960             -0.03\n",
      "4  1980              0.26\n",
      "5  2000              0.40\n",
      "6  2020              1.02\n"
     ]
    }
   ],
   "source": [
    "dic_temperaturas = {1900: -.08, 1920: -.27, 1940: .12, 1960: -.03, 1980: .26, 2000: .40, 2020: 1.02}\n",
    "\n",
    "# Dicionário com anos e anomalias térmicas\n",
    "dic_temperaturas = {\n",
    "    1900: -0.08,\n",
    "    1920: -0.27,\n",
    "    1940: 0.12,\n",
    "    1960: -0.03,\n",
    "    1980: 0.26,\n",
    "    2000: 0.40,\n",
    "    2020: 1.02\n",
    "}\n",
    "\n",
    "# Criando a Série\n",
    "serie_dic = pd.Series(dic_temperaturas)\n",
    "\n",
    "# Convertendo para DataFrame e organizando\n",
    "df_temperaturas = serie_dic.reset_index()\n",
    "df_temperaturas.columns = [\"Ano\", \"Anomalia Térmica\"]\n",
    "\n",
    "# Ordenando pelo ano (caso não esteja)\n",
    "df_temperaturas = df_temperaturas.sort_values(\"Ano\").reset_index(drop=True)\n",
    "\n",
    "print(df_temperaturas)\n"
   ]
  },
  {
   "cell_type": "markdown",
   "metadata": {},
   "source": [
    "#### 4) Transforme o ndarray abaixo em um dataframe. \n",
    "O numpy é capaz de gerar arrays n-dimensionais com números pseudo-aleatórios de acordo com uma variedade de distribuições, como no exemplo abaixo. Transforme esse nd-array em um DataFrame."
   ]
  },
  {
   "cell_type": "code",
   "execution_count": 5,
   "metadata": {},
   "outputs": [
    {
     "name": "stdout",
     "output_type": "stream",
     "text": [
      "      Coluna_1    Coluna_2    Coluna_3\n",
      "0    94.607060   95.595037  114.002473\n",
      "1   107.367117   84.813392  112.496351\n",
      "2   102.336716  103.181966   83.339573\n",
      "3   112.410976  113.623136   93.183800\n",
      "4    80.118366   95.792189  104.469642\n",
      "5    95.514840  118.213994   85.033689\n",
      "6   102.594375   89.479990   98.471603\n",
      "7   105.217351   91.090030   95.775546\n",
      "8    83.927822   90.748596   99.627746\n",
      "9   109.606004   97.182640  106.626665\n",
      "10   93.058420  103.617738  107.077330\n",
      "11   99.804478  110.312963   86.052973\n",
      "12  117.715776  117.024050   98.518360\n",
      "13   90.041341   75.055045  100.386971\n",
      "14   82.555153   99.769651  116.390841\n",
      "15   94.650774   91.571520  107.166479\n",
      "16   98.329483  107.222298   94.885193\n",
      "17  107.949645  103.101249  110.471904\n",
      "18   99.788881   90.404302   79.233353\n",
      "19  101.685822  103.146958  110.440880\n"
     ]
    }
   ],
   "source": [
    "arr = np.random.normal(100, 10, (20,3))\n",
    "\n",
    "# Convertendo para DataFrame\n",
    "df = pd.DataFrame(arr, columns=[\"Coluna_1\", \"Coluna_2\", \"Coluna_3\"])\n",
    "\n",
    "print(df)\n"
   ]
  },
  {
   "cell_type": "markdown",
   "metadata": {},
   "source": [
    "#### 5) Nomeie os índices das linhas com inteiros de 1 a 20, e as colunas com os nomes \"x1\", \"x2\", e \"x3\" respectivamente."
   ]
  },
  {
   "cell_type": "code",
   "execution_count": 6,
   "metadata": {},
   "outputs": [
    {
     "name": "stdout",
     "output_type": "stream",
     "text": [
      "            x1          x2          x3\n",
      "1    94.607060   95.595037  114.002473\n",
      "2   107.367117   84.813392  112.496351\n",
      "3   102.336716  103.181966   83.339573\n",
      "4   112.410976  113.623136   93.183800\n",
      "5    80.118366   95.792189  104.469642\n",
      "6    95.514840  118.213994   85.033689\n",
      "7   102.594375   89.479990   98.471603\n",
      "8   105.217351   91.090030   95.775546\n",
      "9    83.927822   90.748596   99.627746\n",
      "10  109.606004   97.182640  106.626665\n",
      "11   93.058420  103.617738  107.077330\n",
      "12   99.804478  110.312963   86.052973\n",
      "13  117.715776  117.024050   98.518360\n",
      "14   90.041341   75.055045  100.386971\n",
      "15   82.555153   99.769651  116.390841\n",
      "16   94.650774   91.571520  107.166479\n",
      "17   98.329483  107.222298   94.885193\n",
      "18  107.949645  103.101249  110.471904\n",
      "19   99.788881   90.404302   79.233353\n",
      "20  101.685822  103.146958  110.440880\n"
     ]
    }
   ],
   "source": [
    "# Criando o DataFrame com índices de 1 a 20 e colunas nomeadas\n",
    "df = pd.DataFrame(arr, \n",
    "                  index=range(1, 21),   # índices de 1 a 20\n",
    "                  columns=[\"x1\", \"x2\", \"x3\"])\n",
    "\n",
    "print(df)"
   ]
  },
  {
   "cell_type": "markdown",
   "metadata": {},
   "source": [
    "#### 6) No DataFrame do exercício 5, crie uma nova coluna como sendo a média das três colunas, e dê a ela o nome de \"media\" (não recomendo colocar acentos em nomes de variáveis)."
   ]
  },
  {
   "cell_type": "code",
   "execution_count": 7,
   "metadata": {},
   "outputs": [
    {
     "name": "stdout",
     "output_type": "stream",
     "text": [
      "           x1          x2          x3       media\n",
      "1   94.607060   95.595037  114.002473  101.401523\n",
      "2  107.367117   84.813392  112.496351  101.558954\n",
      "3  102.336716  103.181966   83.339573   96.286085\n",
      "4  112.410976  113.623136   93.183800  106.405971\n",
      "5   80.118366   95.792189  104.469642   93.460066\n"
     ]
    }
   ],
   "source": [
    "# Criando a nova coluna \"media\"\n",
    "df[\"media\"] = df.mean(axis=1)\n",
    "\n",
    "print(df.head())   # Mostra as 5 primeiras linhas"
   ]
  },
  {
   "cell_type": "markdown",
   "metadata": {},
   "source": [
    "#### 7) No DataFrame do exercício 6, crie uma nova coluna chamada \"log_med\", contendo o logaritmo natural da média calculada no exercício 6 <br>"
   ]
  },
  {
   "cell_type": "code",
   "execution_count": 8,
   "metadata": {},
   "outputs": [
    {
     "name": "stdout",
     "output_type": "stream",
     "text": [
      "           x1          x2          x3       media   log_med\n",
      "1   94.607060   95.595037  114.002473  101.401523  4.619088\n",
      "2  107.367117   84.813392  112.496351  101.558954  4.620639\n",
      "3  102.336716  103.181966   83.339573   96.286085  4.567324\n",
      "4  112.410976  113.623136   93.183800  106.405971  4.667262\n",
      "5   80.118366   95.792189  104.469642   93.460066  4.537534\n"
     ]
    }
   ],
   "source": [
    "# Criando a coluna \"log_med\" (logaritmo natural da média)\n",
    "df[\"log_med\"] = np.log(df[\"media\"])\n",
    "\n",
    "print(df.head())   # Mostra as 5 primeiras linhas"
   ]
  }
 ],
 "metadata": {
  "kernelspec": {
   "display_name": "Python 3",
   "language": "python",
   "name": "python3"
  },
  "language_info": {
   "codemirror_mode": {
    "name": "ipython",
    "version": 3
   },
   "file_extension": ".py",
   "mimetype": "text/x-python",
   "name": "python",
   "nbconvert_exporter": "python",
   "pygments_lexer": "ipython3",
   "version": "3.13.7"
  }
 },
 "nbformat": 4,
 "nbformat_minor": 4
}
